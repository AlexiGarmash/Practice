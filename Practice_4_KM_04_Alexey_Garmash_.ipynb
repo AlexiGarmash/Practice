{
 "cells": [
  {
   "cell_type": "markdown",
   "metadata": {
    "id": "1bRxWHr5e8kt"
   },
   "source": [
    "# **Курс \"Програмування на мові Python\"**\n",
    "\n",
    "##### Викладачі:\n",
    "##### Борисенко Павло Борисович\n",
    "##### Щьоголєв Максим Олегович"
   ]
  },
  {
   "cell_type": "markdown",
   "metadata": {
    "id": "buZUwUgFe-kx"
   },
   "source": [
    "## **Практичне зайняття №4**\n",
    "### Тема: \"Цикли. Робота зі списками\""
   ]
  },
  {
   "cell_type": "markdown",
   "metadata": {
    "id": "PUkxEn8EfAUe"
   },
   "source": [
    "### **Завдання 1 (1,5 бали)**\n",
    "\n"
   ]
  },
  {
   "cell_type": "markdown",
   "metadata": {},
   "source": [
    "Керівництво будівельної компанії вирішило підняти заробітні плати всім своїм працівникам на 30%. В залежності від спеціалізації та стажу працівники мають різну заробітну плату. Для підготовки звіту необхідно розрахувати нову заробітну плату для працівників компанії, а також суму індексації.\n",
    "\n",
    "Написати програму, яка буде генерувати таблицю для цього звіту. Початкова заробітна плата працівників подана у списку salary_list (у тисячах гривень).\n",
    "\n",
    "1. Для підрахунку невідомих значень та їх виведення повинен використовуватись цикл.\n",
    "\n",
    "2. Зарплата після індексації та сума індексації для працівників різних категорій повинні зберігатись у двох окремих списках. Порядок значень у кожному з нових списків повинен відповідати порядку значень у списку salary_list.\n",
    "\n",
    "3. Кожне підраховане числове значення має бути округлене до сотих. Для цього слід використати функцію round(). Приклад застосування цієї функції:\n",
    "\n",
    "```\n",
    "value_new = round(2.3741, 2)\n",
    "print(value_new)\n",
    "```\n",
    "\n",
    "4. Дані повинні виводитись у вигляді:\n",
    "\n",
    "**Salary table:**\n",
    "\n",
    "**7.3 9.49 2.19**\n",
    "\n",
    "**8.5 11.05 2.55**\n",
    "\n",
    "**...**\n",
    "\n",
    "salary_list = [[7.3, 8.5, 11, 12.7, 15.2, 21.12, 27.35]]"
   ]
  },
  {
   "cell_type": "code",
   "execution_count": 1,
   "metadata": {},
   "outputs": [
    {
     "name": "stdout",
     "output_type": "stream",
     "text": [
      "Salary table\n",
      "7.3 9.49 2.19 \n",
      "8.5 11.05 2.55 \n",
      "11 14.3 3.3 \n",
      "12.7 16.51 3.81 \n",
      "15.2 19.76 4.56 \n",
      "21.12 27.46 6.34 \n",
      "27.35 35.55 8.21 \n"
     ]
    }
   ],
   "source": [
    "salary_list = [7.3, 8.5, 11, 12.7, 15.2, 21.12, 27.35]\n",
    "new_salary_list = []\n",
    "sum_salary = []\n",
    "for i in salary_list:\n",
    "    q = round(i + 0.3 * i, 2)\n",
    "    w = round(0.3 * i, 2)\n",
    "    new_salary_list.append(q)\n",
    "    sum_salary.append(w)\n",
    "print('Salary table')\n",
    "for i in range(len(salary_list)):\n",
    "    print(salary_list[i], end=' ')\n",
    "    print(new_salary_list[i], end=' ')\n",
    "    print(sum_salary[i], end=' ')\n",
    "    print()"
   ]
  },
  {
   "cell_type": "code",
   "execution_count": null,
   "metadata": {},
   "outputs": [],
   "source": []
  },
  {
   "cell_type": "markdown",
   "metadata": {},
   "source": [
    "### **Завдання 2 (1,5 бали)**"
   ]
  },
  {
   "cell_type": "markdown",
   "metadata": {
    "id": "4n4p_pz7gFKM"
   },
   "source": [
    "Перелічуючи деякі предмети у тексті, ми ставимо між ними коми. В англійській мові слово and зазвичай ставлять між останнім та передостаннім словом у переліку (за виключенням випадку, коли у списку всього одне слово). Розглянемо 4 приклади:\n",
    "\n",
    "**apples**\n",
    "\n",
    "**apples and oranges**\n",
    "\n",
    "**apples, oranges and bananas**\n",
    "\n",
    "**apples, oranges, bananas and lemons**\n",
    "\n",
    "Напишіть програму, яка: \n",
    "\n",
    "1. отримує на вхід перелік деяких предметів, які користувач вводить з клавіатури, та записує їх у список у вигляді окремих елементів;\n",
    "\n",
    "2. виводить ці предмети у тій самій послідовності, в якій вони були введені, розставляючи коми та слово and так, як показано у прикладі."
   ]
  },
  {
   "cell_type": "code",
   "execution_count": 3,
   "metadata": {
    "id": "Nv66Jkkpf-sI"
   },
   "outputs": [
    {
     "name": "stdout",
     "output_type": "stream",
     "text": [
      "white, black and yellow\n"
     ]
    }
   ],
   "source": [
    "a = input('Enter your words:')\n",
    "a = a.split(' ')\n",
    "b = ', '.join(a[:-1])\n",
    "print(b + ' and ' + a[-1])"
   ]
  },
  {
   "cell_type": "code",
   "execution_count": null,
   "metadata": {},
   "outputs": [],
   "source": []
  }
 ],
 "metadata": {
  "colab": {
   "collapsed_sections": [],
   "name": "Pranctice_3_KM-01_<name>.ipynb",
   "provenance": []
  },
  "kernelspec": {
   "display_name": "Python 3",
   "language": "python",
   "name": "python3"
  },
  "language_info": {
   "codemirror_mode": {
    "name": "ipython",
    "version": 3
   },
   "file_extension": ".py",
   "mimetype": "text/x-python",
   "name": "python",
   "nbconvert_exporter": "python",
   "pygments_lexer": "ipython3",
   "version": "3.8.3"
  }
 },
 "nbformat": 4,
 "nbformat_minor": 1
}
