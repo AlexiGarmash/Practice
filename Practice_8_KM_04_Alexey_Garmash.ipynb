{
  "nbformat": 4,
  "nbformat_minor": 0,
  "metadata": {
    "colab": {
      "name": "Practice_7_KM-01_.ipynb",
      "provenance": [],
      "collapsed_sections": []
    },
    "kernelspec": {
      "name": "python3",
      "display_name": "Python 3"
    }
  },
  "cells": [
    {
      "cell_type": "markdown",
      "metadata": {
        "id": "FMqboNwO4rVs"
      },
      "source": [
        "# **Курс \"Програмування на мові Python\"**\n",
        "\n",
        "##### Викладачі:\n",
        "##### Борисенко Павло Борисович\n",
        "##### Щьоголєв Максим Олегович\n"
      ]
    },
    {
      "cell_type": "markdown",
      "metadata": {
        "id": "A2T6MigL5Z06"
      },
      "source": [
        "## **Практичне зайняття №8**\n",
        "\n",
        "### Тема: \"Робота з функціями. Локальні та глобальні змінні\""
      ]
    },
    {
      "cell_type": "markdown",
      "metadata": {
        "id": "cfCdgK2zXm7e"
      },
      "source": [
        "### **Завдання 1 (3 бали)**\n",
        "\n",
        "**Підрахувати визначник матриці, використовуючи правило перестановок.**\n",
        "\n",
        "Функція random_matrix() призначена для створення квадратної матриці випадкових чисел. Її змінювати непотрібно.\n",
        "\n",
        "Приклад використання методу permutations() для створення списку перестановок також подається у комірці з кодом.\n",
        "\n",
        "1) Створити 3 функції: функцію створення списку перестановок, функцію підрахунку добутків та функцію підрахунку загальної суми.\n",
        "\n",
        "2) Кожна функція має супроводжуватись рядком документації, що буде коротко описувати її призначення.\n",
        "\n",
        "3) Розмірність квадратної матриці має вводитись користувачем з клавіатури. Підрахунки виконувати лише в тому разі, якщо користувач введе ціле додатне число.\n",
        "\n",
        "4) Загальний результат повинен підраховуватись за допомогою композиції функцій.\n",
        "\n",
        "За бажання можна перевірити правильність роботи програми за допомогою функції np.linalg.det(a)."
      ]
    },
    {
      "cell_type": "code",
      "metadata": {
        "id": "ifNX2M7LXm7f"
      },
      "source": [
        "#import required modules\n",
        "\n",
        "import numpy as np\n",
        "from copy import copy\n",
        "\n",
        "def check(arg: str) -> int:\n",
        "    '''\n",
        "    Func takes a string as a parameter and offers input\n",
        "    Returns: integer number, if an integer is entered, otherwise it calls itself (recursion)\n",
        "    '''\n",
        "\n",
        "    message = input(f'Enter size(order) of {arg}: ')\n",
        "    try:\n",
        "        if int(message) == float(message):  #float check\n",
        "            return int(message)\n",
        "    except:\n",
        "        print('Enter integer value!')\n",
        "        return check(arg)\n",
        "\n",
        "def random_matrix(dim: int):\n",
        "    \"\"\"\n",
        "    The function generates dim x dim array of integers\n",
        "    between 0 and 10.\n",
        "    \"\"\"\n",
        "    matrix = np.random.randint(10, size = (dim, dim))\n",
        "    return matrix\n",
        "\n",
        "#calls check() func\n",
        "size = check('matrix')\n",
        "\n",
        "#convert np.array to list and create global var total\n",
        "matrix = random_matrix(size).tolist()\n",
        "total = 0\n",
        "\n",
        "def det(A: list) -> int:\n",
        "    '''\n",
        "    Func takes a list value (matrix nxn), after copies the argument to a local variable,\n",
        "    finds all permutations, after that counts the number of inversions for every element.\n",
        "\n",
        "    After func recall itself (recursion)\n",
        "\n",
        "    Last result returns to place func.\n",
        "    '''\n",
        "    global total, size\n",
        "\n",
        "    # for 2x2 matrix\n",
        "    if len(A) == 2 and len(A[0]) == 2:\n",
        "        deter = A[0][0] * A[1][1] - A[1][0] * A[0][1]\n",
        "        return deter\n",
        "\n",
        "    for i in range(size):\n",
        "        matrix_temp = copy(A)\n",
        "        del matrix_temp[0]\n",
        "        for j in range(len(matrix_temp)):\n",
        "            #for every elements by cycle - find permutation (without itertools)\n",
        "            matrix_temp[j] = matrix_temp[j][0:i] + matrix_temp[j][i + 1:]\n",
        "\n",
        "        #for every elements by cucle - find sign (number of inversions)\n",
        "        inversions_of_number = (-1) ** (i % 2)\n",
        "\n",
        "        #recall func itself (recursion)\n",
        "        elements_of_sum = det(matrix_temp)\n",
        "        total += inversions_of_number * elements_of_sum * A[0][i]\n",
        "\n",
        "    return total\n",
        "\n",
        "\n",
        "print(f'Your matrix was:\\n{matrix}')\n",
        "\n",
        "#CALLS MY FUNC\n",
        "print(f'Result: {det(matrix)}')\n",
        "\n",
        "#CALL FOR CHECK\n",
        "print(f'Checked my NumPy: {np.linalg.det(matrix)}')"
      ],
      "execution_count": 4,
      "outputs": [
        {
          "output_type": "stream",
          "name": "stdout",
          "text": [
            "Your matrix was:\n",
            "[[6, 2, 3], [3, 8, 3], [1, 2, 3]]\n",
            "Result: 90\n",
            "Checked my NumPy: 90.0\n"
          ]
        }
      ]
    },
    {
      "cell_type": "code",
      "execution_count": null,
      "metadata": {},
      "outputs": [],
      "source": []
    }
  ]
}