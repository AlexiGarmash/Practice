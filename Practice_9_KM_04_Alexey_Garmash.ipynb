{
  "nbformat": 4,
  "nbformat_minor": 0,
  "metadata": {
    "colab": {
      "name": "Practice_7_KM-01_.ipynb",
      "provenance": [],
      "collapsed_sections": []
    },
    "kernelspec": {
      "name": "python3",
      "display_name": "Python 3"
    }
  },
  "cells": [
    {
      "cell_type": "markdown",
      "metadata": {
        "id": "FMqboNwO4rVs"
      },
      "source": [
        "# **Курс \"Програмування на мові Python\"**\n",
        "\n",
        "##### Викладачі:\n",
        "##### Борисенко Павло Борисович\n",
        "##### Щьоголєв Максим Олегович\n"
      ]
    },
    {
      "cell_type": "markdown",
      "metadata": {
        "id": "A2T6MigL5Z06"
      },
      "source": [
        "## **Практичне зайняття №9**\n",
        "\n",
        "### Тема: \"Лямбда-функції. Функції вищих порядків\""
      ]
    },
    {
      "cell_type": "markdown",
      "metadata": {
        "id": "cfCdgK2zXm7e"
      },
      "source": [
        "### **Завдання 1 (1 бал)**\n",
        "\n",
        "Керівництво будівельної компанії вирішило підняти заробітні плати всім своїм працівникам на 30%. В залежності від спеціалізації та стажу працівники мають різну заробітну плату. Для підготовки звіту необхідно розрахувати нову заробітну плату для працівників компанії, а також суму індексації.\n",
        "\n",
        "Написати програму, яка буде генерувати таблицю для цього звіту. Початкова заробітна плата працівників подана у списку salary_list (у тисячах гривень). \n",
        "\n",
        "1. Для підрахунку невідомих значень повинні використовуватись вбудовані функції вищих порядків.\n",
        "\n",
        "2. Зарплата після індексації та сума індексації для працівників різних категорій повинні зберігатись у двох окремих списках. Порядок значень у кожному з нових списків повинен відповідати порядку значень у списку salary_list.\n",
        "\n",
        "3. Кожне підраховане числове значення має бути округлене до сотих.\n",
        "\n",
        "4. Дані повинні виводитись у вигляді:\n",
        "\n",
        "**Salary table:**\n",
        "\n",
        "**7.3 9.49 2.19**\n",
        "\n",
        "**8.5 11.05 2.55**\n",
        "\n",
        "**...**\n",
        "\n",
        "salary_list = [[7.3, 8.5, 11, 12.7, 15.2, 21.12, 27.35]]"
      ]
    },
    {
      "cell_type": "code",
      "metadata": {
        "id": "ifNX2M7LXm7f"
      },
      "source": [
        "#initial list with employee salaries\n",
        "salary_list = [7.3, 8.5, 11, 12.7, 15.2, 21.12, 27.35]\n",
        "print(f'Initial salaries of employees: {salary_list}')\n",
        "\n",
        "#code according to the conditions (condition of task 1)\n",
        "print('\\nDefault version:')\n",
        "salary_up = list(map(lambda num: round(num + num * 0.3, 2), salary_list))\n",
        "difference = list(map(lambda num: round(num * 0.3, 2), salary_list))\n",
        "result = list(map(lambda num, up, dif: print(num, up, dif), salary_list, salary_up, difference))\n",
        "\n",
        "#my improve of program\n",
        "print('\\nImproved version:')\n",
        "impoved = list(map(lambda num: print(num, round(num + num * 0.3, 2), round(num * 0.3, 2)), salary_list))\n",
        "\n",
        "#list(map(lambda num: print(num, round(num + num * 0.3, 2), round(num * 0.3, 2)), salary_list))"
      ],
      "execution_count": 5,
      "outputs": [
        {
          "output_type": "stream",
          "name": "stdout",
          "text": [
            "Initial salaries of employees: [7.3, 8.5, 11, 12.7, 15.2, 21.12, 27.35]\n\nDefault version:\n7.3 9.49 2.19\n8.5 11.05 2.55\n11 14.3 3.3\n12.7 16.51 3.81\n15.2 19.76 4.56\n21.12 27.46 6.34\n27.35 35.55 8.21\n\nImproved version:\n7.3 9.49 2.19\n8.5 11.05 2.55\n11 14.3 3.3\n12.7 16.51 3.81\n15.2 19.76 4.56\n21.12 27.46 6.34\n27.35 35.55 8.21\n"
          ]
        }
      ]
    },
    {
      "source": [
        "### **Завдання 2 (2 бали)**\n",
        "\n",
        "Зазвичай рік має 365 днів. Однак у високосні роки додається ще один день - 29 лютого. Правила визначення високосного року такі:\n",
        "\n",
        "- Будь-який рік, що ділиться на 400 - високосний.\n",
        "\n",
        "- З тих років, що залишились, будь-який рік, що ділиться на 100 - **не** високосний.\n",
        "\n",
        "- З тих років, що залишились, будь-який рік, що ділиться на 4 - високосний.\n",
        "\n",
        "- Усі інші роки, що залишились - **не** високосні.\n",
        "\n",
        "1) Створіть функцію, в якій за допомогою вбудованих функцій вищих порядків будуть визначатися високосні роки серед перелічених років у списку years. Створена функція має повертати список високосних років.\n",
        "\n",
        "2) Створіть функцію вищих порядків, яка прийматиме на вхід попередню функцію та визначатиме кількість днів у місяці. Також функція повинна приймати на вхід ще 2 параметри: ціле число від 1 до 12 (місяць) та рік, як ціле чотирицифрове число. Ці значення корисувач має вводити з клавіатури. Перевірку введених даних слід виконувати поза межами функцій."
      ],
      "cell_type": "markdown",
      "metadata": {}
    },
    {
      "cell_type": "code",
      "execution_count": 8,
      "metadata": {},
      "outputs": [
        {
          "output_type": "stream",
          "name": "stdout",
          "text": [
            "Leap years: [1904, 1908, 1912, 1916, 1920, 1924, 1928, 1932, 1936, 1940, 1944, 1948, 1952, 1956, 1960, 1964, 1968, 1972, 1976, 1980, 1984, 1988, 1992, 1996, 2000, 2004, 2008, 2012, 2016, 2020]\n",
            "Entered invalid num of year, please enter valid!\n",
            "Entered invalid num of year, please enter valid!\n",
            "Entered invalid values, please enter valid!\n",
            "Entered invalid values, please enter valid!\n",
            "Entered invalid num of month, please enter valid!\n",
            "\n",
            "February in 2000 has a 29 days\n"
          ]
        }
      ],
      "source": [
        "from calendar import month_name, monthrange\n",
        "import numpy as np\n",
        "from time import sleep\n",
        "\n",
        "\n",
        "def check_year(string: str) -> int:\n",
        "    '''\n",
        "    Function checks entered year. Number of year must be greater than 1900 and less than 2020\n",
        "    :param string: string entered by user\n",
        "    :return: int value of string if string its number, else func recirsion\n",
        "    '''\n",
        "    start_message = input(f'Enter {string}: ')\n",
        "    try:\n",
        "        if 1900 <= int(start_message) <= 2020:\n",
        "            return int(start_message)\n",
        "        else:\n",
        "            print('Entered invalid num of year, please enter valid!')\n",
        "            return check_year(string)\n",
        "    except:\n",
        "        print('Entered invalid values, please enter valid!')\n",
        "        return check_year(string)\n",
        "\n",
        "\n",
        "def check_month(string):\n",
        "    '''\n",
        "        Function checks entered month. Number of month must be greater than 1 and less than 12\n",
        "        :param string: string entered by user\n",
        "        :return: int value of string if string its number, else func recirsion\n",
        "        '''\n",
        "    start_message = input(f'Enter {string}: ')\n",
        "    try:\n",
        "        if 1 <= int(start_message) <= 12:\n",
        "            return int(start_message)\n",
        "        else:\n",
        "            print('Entered invalid num of month, please enter valid!')\n",
        "            return check_month(string)\n",
        "    except:\n",
        "        print('Entered invalid values, please enter valid!')\n",
        "        return check_month(string)\n",
        "\n",
        "\n",
        "def get_leap_year(list_year):\n",
        "    '''\n",
        "    Func is created to find the leap year\n",
        "    :param list_year: list of years by 1900-2020\n",
        "    :return: sorted list, which has leap years from diapason\n",
        "    '''\n",
        "    def hundread(list_year):\n",
        "        def four_hundread(list_year):\n",
        "            return list(filter(lambda year: year % 400 != 0, list_year)), list(filter(lambda year: year % 400 == 0, list_year))\n",
        "        return list(filter(lambda year: year % 100 != 0, four_hundread(list_year)[0])), four_hundread(list_year)[1]\n",
        "    temp = hundread(list_year)[1]\n",
        "    temp.extend(list(filter(lambda year: year % 4 == 0, hundread(list_year)[0])))\n",
        "    return sorted(temp)\n",
        "\n",
        "\n",
        "def get_days(get_leap_year, month, year):\n",
        "    '''\n",
        "    The function finds the number of days in a month depending on the year (leap or not)\n",
        "    :param get_leap_year: func of finding a leap years\n",
        "    :param month: int number of month that entered user\n",
        "    :param year: int number of year that entered user\n",
        "    :return:\n",
        "    '''\n",
        "    if year in get_leap_year and month == 2:\n",
        "        print(f'\\n{month_name[month]} in {year} has a 29 days')\n",
        "    else:\n",
        "        print(f'\\n{month_name[month]} in {year} has a {monthrange(year, month)[1]} days')\n",
        "\n",
        "if __name__ == '__main__':\n",
        "\n",
        "    #list of years from range 1900-2020 from the task\n",
        "    years = list(np.arange(1900, 2020 + 1, 1))\n",
        "\n",
        "    # output message about leap years and list\n",
        "    print(f'Leap years: {get_leap_year(years)}')\n",
        "    sleep(1)\n",
        "\n",
        "    #two inputs - number of year & month and checking values\n",
        "    message_year, message_month = check_year('year'), check_month('month')\n",
        "    sleep(1)\n",
        "\n",
        "    #calls function for find number of days\n",
        "    get_days(get_leap_year(years), message_month, message_year)"
      ]
    },
    {
      "cell_type": "code",
      "execution_count": null,
      "metadata": {},
      "outputs": [],
      "source": []
    }
  ]
}