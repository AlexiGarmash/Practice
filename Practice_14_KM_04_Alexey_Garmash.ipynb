{
  "nbformat": 4,
  "nbformat_minor": 0,
  "metadata": {
    "colab": {
      "name": "Practice_14_KM_01.ipynb",
      "provenance": [],
      "collapsed_sections": []
    },
    "kernelspec": {
      "name": "python3",
      "display_name": "Python 3",
      "language": "python"
    }
  },
  "cells": [
    {
      "cell_type": "markdown",
      "metadata": {
        "id": "FMqboNwO4rVs"
      },
      "source": [
        "# **Курс \"Програмування на мові Python\"**\n",
        "\n",
        "##### Викладачі:\n",
        "##### Борисенко Павло Борисович\n",
        "##### Щьоголєв Максим Олегович\n"
      ]
    },
    {
      "cell_type": "markdown",
      "metadata": {
        "id": "A2T6MigL5Z06"
      },
      "source": [
        "## **Практичне зайняття №14**\n",
        "\n",
        "### Тема: \"Робота з файлами\""
      ]
    },
    {
      "cell_type": "markdown",
      "metadata": {
        "id": "cfCdgK2zXm7e"
      },
      "source": [
        "### **Завдання 1 (1,5 бали)**\n",
        "\n",
        "У 1939 році друком вийшов роман американського письменика Ернеста Вінсента Райта \"Ґедсбі\". Особливу увагу публіки він здобув через те, що письменник жодного разу не використав у романі літеру \"e\" (роман складається з більше ніж 50,000 слів), яка є найбільш вживаною літерою в англійській мові.\n",
        "\n",
        "Порахуйте кількість входжень кожної літери у текст роману. Виведіть список літер англійського алфавіту, а також інформацію про те, скільки відсотків від усіх літер тексту складає кожна літера алфавіту.\n",
        "\n",
        "Зауваження:\n",
        "\n",
        "1. Програма має ігнорувати будь-які символи, окрім літер.\n",
        "\n",
        "2. Переведіть усі літери у верхній або у нижній регістр.\n",
        "\n",
        "3. Під час виведення відсортуйте літери у порядку зменшення їхнього відсотка. Літера \"e\" має стояти на останньому місці у цьому списку.\n",
        "\n",
        "4. Виведіть перші 5 та останні 5 літер відсортованого списку разом з відсотковими значеннями, що їм відповідають."
      ]
    },
    {
      "cell_type": "code",
      "metadata": {
        "tags": [],
        "id": "u4-fHJJ6U462"
      },
      "source": [
        "from string import ascii_lowercase\n",
        "\n",
        "#creating empty dictionary\n",
        "abc = dict()\n",
        "\n",
        "with open('gadsby.txt', 'r') as book:\n",
        "    #for more productive use method lower when string is come on this iteration\n",
        "    lines = ''.join([line.lower() for line in book])\n",
        "\n",
        "    #creating keys as letters from ascii_lowercase\n",
        "    for letter in ascii_lowercase:\n",
        "        abc[letter] = lines.count(letter)\n",
        "\n",
        "total_letters = sum(list(abc.values()))\n",
        "\n",
        "#percentage of number of letter to the total number of letter in book\n",
        "for key in abc:\n",
        "    abc[key] /= total_letters\n",
        "\n",
        "#sorting list\n",
        "items = list(abc.items())\n",
        "items.sort(key=lambda num: num[1], reverse=True)\n",
        "\n",
        "#output\n",
        "for twice in items:\n",
        "    if twice not in items[6:22]:\n",
        "        print(f'\"{twice[0]}\" has value {round(twice[1] * 100, 2)}%')"
      ],
      "execution_count": 1,
      "outputs": [
        {
          "output_type": "stream",
          "name": "stdout",
          "text": [
            "\"a\" has value 0.11\n\"o\" has value 0.104\n\"i\" has value 0.088\n\"n\" has value 0.086\n\"t\" has value 0.085\n\"s\" has value 0.07\n\"q\" has value 0.001\n\"x\" has value 0.001\n\"z\" has value 0.001\n\"e\" has value 0.0\n"
          ]
        }
      ]
    },
    {
      "cell_type": "markdown",
      "metadata": {
        "id": "A34oz70eU463"
      },
      "source": [
        "### **Завдання 2 (1,5 бали)**\n",
        "\n",
        "Створіть CSV-файл, що буде містити від 5 до 10 пісень (творів) вашого улюбленого музиканта. Назва файлу - ім'я музиканта (композитора) або назва гурту.\n",
        "\n",
        "1. Обов'язково додайте до файлу рядок з назвами двох колонок (Song, Year) або (Composition, Year).\n",
        "\n",
        "2. Після запису файлу роздрукуйте назву файлу та усі наявні у файлі рядки (включно із заголовками).\n",
        "\n",
        "3. Для запису та зчитування рядків скористайтесь функціями csv.DictWriter() та csv.DictReader()."
      ]
    },
    {
      "cell_type": "code",
      "metadata": {
        "id": "MEJIrG1GU463"
      },
      "source": [
        "import csv\n",
        "\n",
        "with open('twenty one pilots.csv', 'w', newline='') as songs:\n",
        "    fieldnames = ['Song', 'Year']\n",
        "    writer = csv.DictWriter(songs, fieldnames=fieldnames)\n",
        "    writer.writeheader()\n",
        "    writer.writerow({'Song': 'Stressed Out', 'Year': 2015})\n",
        "    writer.writerow({'Song': 'Doubt', 'Year': 2015})\n",
        "    writer.writerow({'Song': 'House of Gold', 'Year': 2013})\n",
        "    writer.writerow({'Song': 'Heathens', 'Year': 2017})\n",
        "    writer.writerow({'Song': 'Nico and the Niners', 'Year': 2018})\n",
        "    writer.writerow({'Song': 'Chlorine', 'Year': 2018})\n",
        "\n",
        "with open('twenty one pilots.csv', newline='') as songs:\n",
        "    reader = csv.DictReader(songs)\n",
        "    print(f'{reader.fieldnames[0]} | {reader.fieldnames[1]}\\n')\n",
        "    for row in reader:\n",
        "        print(row['Song'], row['Year'])"
      ],
      "execution_count": null,
      "outputs": []
    },
    {
      "cell_type": "markdown",
      "metadata": {
        "id": "Jb-eSBsWU464"
      },
      "source": [
        "### **Завдання 3 (бонусне, 1 бал)**\n",
        "\n",
        "COCO Dataset - набір фотографій та анотацій до них. Його дуже часто використовують для тренування класифікаторів, призначених для розпізнавання об'єктів та визначення ключових точок на зображеннях.\n",
        "\n",
        "Завантажте файли з описом фотографій COCO Dataset за посиланням: http://images.cocodataset.org/annotations/image_info_test2017.zip\n",
        "\n",
        "1. Відкрийте файл image_info_test-dev2017.json. Інформація про фотографії з бази COCO міститься у полі \"images\". Інформація про категорії, на які розділені всі фотографії, міститься у полі \"categories\".\n",
        "\n",
        "2. Визначте кількість фотографій, інформацію про які можна знайти у цьому файлі (кількість елементів, що відповідають ключу \"images\").\n",
        "\n",
        "3. Визначте кількість наявних категорій (кількість елементів, що відповідають ключу \"categories\").\n",
        "\n",
        "4. Виведіть посилання на фотографію 000000000001.jpg (\"coco_url\"), висоту цієї фотографії (\"height\"), ширину (\"width\") та її ідентифікатор (\"id\").\n",
        "\n",
        "5. Опис структури JSON-файлу для набору фотографій COCO можна знайти за посиланням: https://cocodataset.org/#format-data\n",
        "\n",
        "6. Щоб перевірити правильність результатів, у VS Code встановіть розширення JSON та відкрийте файл image_info_test-dev2017.json. Розширення автоматично визначає кількість елементів у кожному полі."
      ]
    },
    {
      "cell_type": "code",
      "metadata": {
        "id": "74C6WKB_U464"
      },
      "source": [
        "import json\n",
        "\n",
        "with open('image_info_test-dev2017.json') as COCO:\n",
        "    data = json.load(COCO)\n",
        "    print(f\"Number of images: {len(data['images'])}\\nNumber of categories: {len(data['categories'])}\")\n",
        "    for image in data['images']:\n",
        "        if image['file_name'] == '000000000001.jpg':\n",
        "            print(f\"Link: {image['coco_url']}\")\n",
        "            print(f\"Height: {image['height']}\")\n",
        "            print(f\"Width: {image['width']}\")\n",
        "            print(f\"ID: {image['id']}\")\n"
      ],
      "execution_count": 2,
      "outputs": [
        {
          "output_type": "stream",
          "name": "stdout",
          "text": [
            "Number of images: 20288\nNumber of categories: 80\nLink: http://images.cocodataset.org/test2017/000000000001.jpg\nHeight: 480\nWidth: 640\nID: 1\n"
          ]
        }
      ]
    },
    {
      "cell_type": "code",
      "execution_count": null,
      "metadata": {},
      "outputs": [],
      "source": []
    }
  ]
}