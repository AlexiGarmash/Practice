{
  "nbformat": 4,
  "nbformat_minor": 0,
  "metadata": {
    "colab": {
      "name": "Practice_7_KM-01_.ipynb",
      "provenance": [],
      "collapsed_sections": []
    },
    "kernelspec": {
      "name": "python3",
      "display_name": "Python 3"
    }
  },
  "cells": [
    {
      "cell_type": "markdown",
      "metadata": {
        "id": "FMqboNwO4rVs"
      },
      "source": [
        "# **Курс \"Програмування на мові Python\"**\n",
        "\n",
        "##### Викладачі:\n",
        "##### Борисенко Павло Борисович\n",
        "##### Щьоголєв Максим Олегович\n"
      ]
    },
    {
      "cell_type": "markdown",
      "metadata": {
        "id": "A2T6MigL5Z06"
      },
      "source": [
        "## **Практичне зайняття №7**\n",
        "\n",
        "### Тема: \"Перевірка даних. Робота з виключеннями. Регулярні вирази\""
      ]
    },
    {
      "cell_type": "markdown",
      "metadata": {
        "id": "cfCdgK2zXm7e"
      },
      "source": [
        "### **Завдання 1 (1,5 бали)**\n",
        "\n",
        "Переробити завдання №1 практичної роботи №6 з використанням регулярних виразів.\n",
        "\n",
        "1. Створити шаблон регулярного виразу.\n",
        "\n",
        "2. За допомогою функції compile() створити об'єкт регулярного виразу.\n",
        "\n",
        "3. Всі інші вимоги залишаються такими ж, як і в оригінальному завданні."
      ]
    },
    {
      "cell_type": "code",
      "metadata": {
        "id": "ifNX2M7LXm7f"
      },
      "source": [
        "import re\n",
        "\n",
        "pose_estimation = \"[BodyPart:0-(0.56, 0.23) score=0.80 BodyPart:1-(0.57, 0.33) score=0.79 BodyPart:2-(0.52, 0.35) score=0.70 BodyPart:3-(0.46, 0.40) score=0.69 BodyPart:4-(0.36, 0.41) score=0.84 BodyPart:5-(0.61, 0.32) score=0.72 BodyPart:6-(0.61, 0.21) score=0.58 BodyPart:7-(0.59, 0.11) score=0.80 BodyPart:8-(0.56, 0.52) score=0.43 BodyPart:9-(0.61, 0.65) score=0.36 BodyPart:10-(0.60, 0.80) score=0.63 BodyPart:11-(0.59, 0.51) score=0.50 BodyPart:12-(0.56, 0.65) score=0.50 BodyPart:13-(0.53, 0.80) score=0.69 BodyPart:14-(0.55, 0.22) score=0.64 BodyPart:15-(0.57, 0.22) score=0.67 BodyPart:17-(0.60, 0.24) score=0.33]\"\n",
        "\n",
        "#add new compile (regular expression)\n",
        "check_points, check_score = re.compile(r'[0-9].[0-9]{2}, [0-9].[0-9]{2}'), re.compile(r'=[0-9].[0-9]{2}')\n",
        "\n",
        "#find all points (BodyPart) in list, change type of elements to float and print modified list\n",
        "body_points = re.findall('[0-9].[0-9]{2}', ','.join(check_points.findall(pose_estimation)))\n",
        "print('points:', [float(body_points[i]) for i in range(len(body_points))], '\\n')\n",
        "\n",
        "#find all scores in list, change type of elements to float and print modified list\n",
        "score = re.findall('[0-9].[0-9]{2}', ''.join(check_score.findall(pose_estimation)))\n",
        "print('score:', [float(score[i]) for i in range(len(score))])\n"
      ],
      "execution_count": 2,
      "outputs": [
        {
          "output_type": "stream",
          "name": "stdout",
          "text": [
            "points: [0.56, 0.23, 0.57, 0.33, 0.52, 0.35, 0.46, 0.4, 0.36, 0.41, 0.61, 0.32, 0.61, 0.21, 0.59, 0.11, 0.56, 0.52, 0.61, 0.65, 0.6, 0.8, 0.59, 0.51, 0.56, 0.65, 0.53, 0.8, 0.55, 0.22, 0.57, 0.22, 0.6, 0.24] \n\nscore: [0.8, 0.79, 0.7, 0.69, 0.84, 0.72, 0.58, 0.8, 0.43, 0.36, 0.63, 0.5, 0.5, 0.69, 0.64, 0.67, 0.33]\n"
          ]
        }
      ]
    },
    {
      "cell_type": "markdown",
      "metadata": {
        "id": "M1Sg0vXJXm7n"
      },
      "source": [
        "### **Завдання 2 (1,5 бали)**\n",
        "\n",
        "Написати програму підрахунку коренів квадратного рівняння без попередніх перевірок.\n",
        "\n",
        "1. Користувач має вводити коефіцієнти a, b та c з клавіатури.\n",
        "\n",
        "2. Програма має обробляти помилки ділення на 0, кореня від'ємного числа та інші, а також виводити відповідні повідомлення у разі виникнення таких помилок.\n",
        "\n",
        "3. Якщо рівняння не має коренів, программа має генерувати помилку за допомогою ключового слова raise, а потім обробляти її.\n",
        "\n",
        "4. Правильно написана програма при виникненні різних помилок має виводити текст помилки, а також різні повідомлення про те, в чому суть цих помилок. Необроблених помилок бути не повинно."
      ]
    },
    {
      "cell_type": "code",
      "metadata": {
        "id": "co7fcAuvXm7o"
      },
      "source": [
        "from math import sqrt\n",
        "import sys\n",
        "import time\n",
        "\n",
        "#main function\n",
        "def quadratic():\n",
        "    #inputs coefficients a, b, c\n",
        "    a, b, c = input('Enter coef. a: '), input('Enter coef. b: '), input('Enter coef. c: ')\n",
        "\n",
        "    #start construction try-except - convert type for a, b, c\n",
        "    try:\n",
        "        a, b, c = float(a), float(b), float(c)\n",
        "    except ValueError as exp:\n",
        "        print(f'{exp}\\nDescription: You entered invalid type.')\n",
        "    else:\n",
        "        try:\n",
        "            #if in square will be negative value (raise error)\n",
        "            if b ** 2 - 4 * a * c < 0:\n",
        "                raise ValueError('quadratic equation havent roots')\n",
        "\n",
        "            result_1, result_2 = (-b + sqrt(b ** 2 - (4 * a * c))) / (2 * a), (-b - sqrt(b ** 2 - (4 * a * c))) / (2 * a)\n",
        "            print('Results:\\nx(1): ', round(result_1, 2))\n",
        "            print('x(2): ', round(result_2, 2))\n",
        "\n",
        "            #if a will be zero\n",
        "        except ZeroDivisionError as exp:\n",
        "            print(f'{exp}\\nDescription: You divide by zero.')\n",
        "\n",
        "            #other errors and \"raise error\"\n",
        "        except ValueError as exp:\n",
        "            print(f'{exp}\\nDescription: You have negative values in square.')\n",
        "\n",
        "    #time delay for user\n",
        "    time.sleep(2)\n",
        "    end = input('\\nYou entered invalid coefficients, do you want to restart program?\\nEnter \"Y\", if you want.\\n'\n",
        "                'Enter other symbol, if you want to end:')\n",
        "\n",
        "    #check input user about continue\n",
        "    if end in ['Y', 'y']:\n",
        "        time.sleep(2)\n",
        "        return quadratic()\n",
        "    else:\n",
        "        sys.exit(0)\n",
        "quadratic()\n"
      ],
      "execution_count": 5,
      "outputs": [
        {
          "output_type": "stream",
          "name": "stdout",
          "text": [
            "could not convert string to float: 'a'\n",
            "Description: You entered invalid type.\n",
            "quadratic equation havent roots\n",
            "Description: You have negative values in square.\n",
            "Results:\n",
            "x(1):  -1.0\n",
            "x(2):  -1.0\n",
            "float division by zero\n",
            "Description: You divide by zero.\n"
          ]
        },
        {
          "output_type": "error",
          "ename": "SystemExit",
          "evalue": "0",
          "traceback": [
            "An exception has occurred, use %tb to see the full traceback.\n",
            "\u001b[1;31mSystemExit\u001b[0m\u001b[1;31m:\u001b[0m 0\n"
          ]
        }
      ]
    },
    {
      "cell_type": "code",
      "execution_count": null,
      "metadata": {},
      "outputs": [],
      "source": []
    }
  ]
}